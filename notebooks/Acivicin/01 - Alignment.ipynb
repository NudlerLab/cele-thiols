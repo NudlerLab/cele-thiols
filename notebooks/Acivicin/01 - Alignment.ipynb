{
 "cells": [
  {
   "cell_type": "markdown",
   "metadata": {},
   "source": [
    "## Align reads to genome using `HISAT2`"
   ]
  },
  {
   "cell_type": "code",
   "execution_count": null,
   "metadata": {},
   "outputs": [],
   "source": [
    "REF_DIR=\"~/data1/ref/Caenorhabditis_elegans\"\n",
    "BASE_DIR=\"../data\"\n",
    "INDEX=\"$REF_DIR/wbcel235/genome\"\n",
    "\n",
    "hisat_exe=\"$HOME/bin/hisat2-2.1.0/hisat2\"\n",
    "\n",
    "for sample in $(ls $BASE_DIR | grep ^ig)\n",
    "do\n",
    "    sample_dir=\"$BASE_DIR/$sample\"\n",
    "    result_dir=\"../results/$sample\"\n",
    "    \n",
    "    if [ ! -d \"$result_dir\" ]; then\n",
    "        echo \"Creating $result_dir ...\"\n",
    "        mkdir -p $result_dir\n",
    "    fi\n",
    "    \n",
    "    echo \"Unzipping reads for $sample ...\"\n",
    "    read1=$sample_dir/read1.fifo\n",
    "    read2=$sample_dir/read2.fifo\n",
    "    mkfifo $read1\n",
    "    mkfifo $read2\n",
    "    \n",
    "    zcat $sample_dir/R1.fastq.gz > $read1 &\n",
    "    zcat $sample_dir/R2.fastq.gz > $read2 &\n",
    "    \n",
    "    $hisat_exe -p 30 --dta --quiet \\\n",
    "        -x $INDEX \\\n",
    "        -1 $read1 -2 $read2 \\\n",
    "    | samtools view -bhS - > \"$result_dir/$sample.bam\"\n",
    "    \n",
    "    rm $sample_dir/*.fifo \n",
    "    \n",
    "done"
   ]
  },
  {
   "cell_type": "code",
   "execution_count": null,
   "metadata": {},
   "outputs": [],
   "source": [
    "for sample in $(ls $BASE_DIR | grep ^ig)\n",
    "do\n",
    "    result_dir=\"../results/$sample\"\n",
    "    samtools sort -@ 30 -o \"$result_dir/$sample.sorted.bam\" \"$result_dir/$sample.bam\"\n",
    "    samtools index -@ 30 \"$result_dir/$sample.sorted.bam\"\n",
    "done"
   ]
  },
  {
   "cell_type": "code",
   "execution_count": null,
   "metadata": {},
   "outputs": [],
   "source": []
  }
 ],
 "metadata": {
  "kernelspec": {
   "display_name": "Bash",
   "language": "bash",
   "name": "bash"
  },
  "language_info": {
   "codemirror_mode": "shell",
   "file_extension": ".sh",
   "mimetype": "text/x-sh",
   "name": "bash"
  }
 },
 "nbformat": 4,
 "nbformat_minor": 4
}
