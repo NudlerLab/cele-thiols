{
 "cells": [
  {
   "cell_type": "markdown",
   "metadata": {},
   "source": [
    "## Prepare count matrix for `DESeq2`"
   ]
  },
  {
   "cell_type": "code",
   "execution_count": null,
   "metadata": {},
   "outputs": [],
   "source": [
    "import pandas as pd"
   ]
  },
  {
   "cell_type": "code",
   "execution_count": null,
   "metadata": {},
   "outputs": [],
   "source": [
    "samples = ['ig{:0>2d}'.format(i) for i in range(1,13)]\n",
    "samples"
   ]
  },
  {
   "cell_type": "code",
   "execution_count": null,
   "metadata": {},
   "outputs": [],
   "source": [
    "conditions = [y for x in zip(['co']*6, ['aci']*6) for y in x]\n",
    "conditions"
   ]
  },
  {
   "cell_type": "code",
   "execution_count": null,
   "metadata": {
    "scrolled": true
   },
   "outputs": [],
   "source": [
    "exp_df = pd.DataFrame({'sample': samples, 'condition': conditions})\n",
    "exp_df"
   ]
  },
  {
   "cell_type": "code",
   "execution_count": null,
   "metadata": {},
   "outputs": [],
   "source": [
    "def deseq_df(exp_df, cond, cond_names, res_dir='../results'):\n",
    "    assert len(cond) == len(cond_names), 'cond and cond_names must be same length'\n",
    "    df = pd.DataFrame()\n",
    "    for cnd,name in zip(cond, cond_names):\n",
    "        edf = exp_df[exp_df.condition==cnd]\n",
    "        for i,row in enumerate(edf.iterrows()):\n",
    "            i += 1\n",
    "            _, sample = row\n",
    "            filename = '{res_dir}/{sample}/{sample}.htseq.counts'.format(\n",
    "                        res_dir=res_dir, sample=sample['sample'])\n",
    "            ct = pd.read_csv(filename, header=None, names=['gene', 'counts'],\n",
    "                            sep='\\t', skipfooter=5, engine='python')\n",
    "            if df.empty:\n",
    "                df = ct.copy()\n",
    "                df.rename(columns={'counts': '%s%i' % (name,i)}, inplace=True)\n",
    "            else:\n",
    "                df['%s%i' % (name,i)] = ct['counts']\n",
    "    df.set_index('gene', inplace=True)\n",
    "    df.index.names = [None]\n",
    "    print(df)\n",
    "    return df"
   ]
  },
  {
   "cell_type": "code",
   "execution_count": null,
   "metadata": {},
   "outputs": [],
   "source": [
    "df1 = deseq_df(exp_df[:6], ('co', 'aci'), ('control', 'Aci'))\n",
    "df2 = deseq_df(exp_df[6:], ('co', 'aci'), ('control', 'Aci'), res_dir='../data/2018-07-25/results')\n",
    "df = df1.merge(df2, left_index=True, right_index=True)\n",
    "#df.to_csv('../results/CvsAci.combined.csv', index_label=False)\n",
    "df"
   ]
  },
  {
   "cell_type": "code",
   "execution_count": null,
   "metadata": {
    "jupyter": {
     "source_hidden": true
    }
   },
   "outputs": [],
   "source": [
    "df = deseq_df(exp_df, ('K', 'NAC'), ('kontrol', 'NAC'))\n",
    "df.to_csv('../results/KvsNAC.csv', index_label=False)"
   ]
  },
  {
   "cell_type": "code",
   "execution_count": null,
   "metadata": {},
   "outputs": [],
   "source": [
    "df.columns"
   ]
  },
  {
   "cell_type": "code",
   "execution_count": null,
   "metadata": {},
   "outputs": [],
   "source": [
    "new_columns = {}\n",
    "xc = yc = 1\n",
    "for c in df.columns:\n",
    "    if 'control' in c:\n",
    "        new_columns[c] = f'control{xc}'\n",
    "        xc += 1\n",
    "    elif 'Aci' in c:\n",
    "        new_columns[c] = f'Aci{yc}'\n",
    "        yc += 1\n",
    "        \n",
    "new_columns"
   ]
  },
  {
   "cell_type": "code",
   "execution_count": null,
   "metadata": {},
   "outputs": [],
   "source": [
    "df.rename(columns=new_columns, inplace=True)\n",
    "df"
   ]
  },
  {
   "cell_type": "code",
   "execution_count": null,
   "metadata": {},
   "outputs": [],
   "source": [
    "df.to_csv('../results/CvsAci.combined.csv', index_label=False)"
   ]
  }
 ],
 "metadata": {
  "kernelspec": {
   "display_name": "Python 3",
   "language": "python",
   "name": "python3"
  },
  "language_info": {
   "codemirror_mode": {
    "name": "ipython",
    "version": 3
   },
   "file_extension": ".py",
   "mimetype": "text/x-python",
   "name": "python",
   "nbconvert_exporter": "python",
   "pygments_lexer": "ipython3",
   "version": "3.6.9"
  }
 },
 "nbformat": 4,
 "nbformat_minor": 4
}
