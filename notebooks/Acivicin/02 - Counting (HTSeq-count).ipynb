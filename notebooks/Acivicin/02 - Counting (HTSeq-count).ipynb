{
 "cells": [
  {
   "cell_type": "code",
   "execution_count": 1,
   "metadata": {},
   "outputs": [
    {
     "name": "stdout",
     "output_type": "stream",
     "text": [
      "total 18G\n",
      "drwxrwsr-x 8 ilya lab 4.0K Nov 26  2018 \u001b[0m\u001b[38;5;5m.\u001b[0m\n",
      "drwxrwsr-x 6 ilya lab 4.0K Nov  7  2018 \u001b[38;5;5m..\u001b[0m\n",
      "lrwxrwxrwx 1 ilya lab   35 Nov 26  2018 \u001b[38;5;37m2018-07-25\u001b[0m -> \u001b[38;5;5m/home/ilya/data2/2018-07-25_RNA-Seq\u001b[0m\n",
      "-rw-rw-r-- 1 ilya lab   95 Nov  7  2018 barcodes.txt\n",
      "drwxrwsr-x 2 ilya lab 4.0K Nov  8  2018 \u001b[38;5;5mig01\u001b[0m\n",
      "drwxrwsr-x 2 ilya lab 4.0K Nov  8  2018 \u001b[38;5;5mig02\u001b[0m\n",
      "drwxrwsr-x 2 ilya lab 4.0K Nov  8  2018 \u001b[38;5;5mig03\u001b[0m\n",
      "drwxrwsr-x 2 ilya lab 4.0K Nov  8  2018 \u001b[38;5;5mig04\u001b[0m\n",
      "drwxrwsr-x 2 ilya lab 4.0K Nov  8  2018 \u001b[38;5;5mig05\u001b[0m\n",
      "drwxrwsr-x 2 ilya lab 4.0K Nov  8  2018 \u001b[38;5;5mig06\u001b[0m\n",
      "-rw-rw-r-- 1 ilya lab  80K Nov  7  2018 index1.txt\n",
      "-rw-rw-r-- 1 ilya lab 8.8G Nov  7  2018 \u001b[01;31mR1.fastq.gz\u001b[0m\n",
      "-rw-rw-r-- 1 ilya lab 9.0G Nov  7  2018 \u001b[01;31mR2.fastq.gz\u001b[0m\n"
     ]
    }
   ],
   "source": [
    "ls -lah ../data"
   ]
  },
  {
   "cell_type": "code",
   "execution_count": 3,
   "metadata": {},
   "outputs": [
    {
     "name": "stdout",
     "output_type": "stream",
     "text": [
      "total 4.4G\n",
      "drwxrwsr-x 2 ilya lab 4.0K Nov 26  2018 \u001b[0m\u001b[38;5;5m.\u001b[0m\n",
      "drwxrwsr-x 9 ilya lab 4.0K Nov 26  2018 \u001b[38;5;5m..\u001b[0m\n",
      "-rw-rw-r-- 1 ilya lab 3.5M Nov 26  2018 e2t.ctab\n",
      "-rw-rw-r-- 1 ilya lab  12M Nov 26  2018 e_data.ctab\n",
      "-rw-rw-r-- 1 ilya lab 2.7M Nov 26  2018 i2t.ctab\n",
      "-rw-rw-r-- 1 ilya lab 4.4M Nov 26  2018 i_data.ctab\n",
      "-rw-rw-r-- 1 ilya lab 2.7G Nov  8  2018 ig01.bam\n",
      "-rw-rw-r-- 1 ilya lab  52M Nov 26  2018 ig01_combined.gtf\n",
      "-rw-rw-r-- 1 ilya lab  49M Nov  9  2018 ig01.gtf\n",
      "-rw-rw-r-- 1 ilya lab 1.7G Nov  8  2018 ig01.sorted.bam\n",
      "-rw-rw-r-- 1 ilya lab 196K Nov  8  2018 ig01.sorted.bam.bai\n",
      "-rw-rw-r-- 1 ilya lab 5.1M Nov 26  2018 t_data.ctab\n"
     ]
    }
   ],
   "source": [
    "ls -lah ../results/ig01"
   ]
  },
  {
   "cell_type": "markdown",
   "metadata": {},
   "source": [
    "## Count reads in genes using `HTSeq-count`"
   ]
  },
  {
   "cell_type": "code",
   "execution_count": 6,
   "metadata": {
    "scrolled": true
   },
   "outputs": [
    {
     "name": "stdout",
     "output_type": "stream",
     "text": [
      "Running HTSeq-count for ig01 ...\n",
      "../results/ig01/ig01.sorted.bam\n",
      "[1] 758\n",
      "Running HTSeq-count for ig02 ...\n",
      "../results/ig02/ig02.sorted.bam\n",
      "[2] 759\n",
      "Running HTSeq-count for ig03 ...\n",
      "../results/ig03/ig03.sorted.bam\n",
      "[3] 760\n",
      "Running HTSeq-count for ig04 ...\n",
      "../results/ig04/ig04.sorted.bam\n",
      "[4] 761\n",
      "Running HTSeq-count for ig05 ...\n",
      "../results/ig05/ig05.sorted.bam\n",
      "[5] 763\n",
      "Running HTSeq-count for ig06 ...\n",
      "../results/ig06/ig06.sorted.bam\n",
      "[6] 764\n"
     ]
    }
   ],
   "source": [
    "genes=\"/home/ilya/data1/ref/Caenorhabditis_elegans/Ensembl/WBcel235/Annotation/Genes/genes.gtf\"\n",
    "BASE_DIR=\"../results\"\n",
    "\n",
    "counter=$(which htseq-count)\n",
    "\n",
    "for sample in $(ls $BASE_DIR | grep ^ig)\n",
    "do\n",
    "    echo \"Running HTSeq-count for $sample ...\"\n",
    "    echo \"$BASE_DIR/$sample/$sample.sorted.bam\"\n",
    "    \n",
    "    $counter -f bam -q \"$BASE_DIR/$sample/$sample.sorted.bam\" $genes \\\n",
    "        > \"$BASE_DIR/$sample/$sample.htseq.counts\" &\n",
    "    \n",
    "done"
   ]
  },
  {
   "cell_type": "code",
   "execution_count": 8,
   "metadata": {
    "scrolled": true
   },
   "outputs": [
    {
     "name": "stdout",
     "output_type": "stream",
     "text": [
      "total 4.4G\n",
      "drwxrwsr-x 2 ilya lab 4.0K Jan 13 14:28 \u001b[0m\u001b[38;5;5m.\u001b[0m\n",
      "drwxrwsr-x 9 ilya lab 4.0K Nov 26  2018 \u001b[38;5;5m..\u001b[0m\n",
      "-rw-rw-r-- 1 ilya lab 3.5M Nov 26  2018 e2t.ctab\n",
      "-rw-rw-r-- 1 ilya lab  12M Nov 26  2018 e_data.ctab\n",
      "-rw-rw-r-- 1 ilya lab 2.7M Nov 26  2018 i2t.ctab\n",
      "-rw-rw-r-- 1 ilya lab 4.4M Nov 26  2018 i_data.ctab\n",
      "-rw-rw-r-- 1 ilya lab 2.7G Nov  8  2018 ig01.bam\n",
      "-rw-rw-r-- 1 ilya lab  52M Nov 26  2018 ig01_combined.gtf\n",
      "-rw-rw-r-- 1 ilya lab  49M Nov  9  2018 ig01.gtf\n",
      "-rw-rw-r-- 1 ilya lab 801K Jan 13 15:28 ig01.htseq.counts\n",
      "-rw-rw-r-- 1 ilya lab 1.7G Nov  8  2018 ig01.sorted.bam\n",
      "-rw-rw-r-- 1 ilya lab 196K Nov  8  2018 ig01.sorted.bam.bai\n",
      "-rw-rw-r-- 1 ilya lab 5.1M Nov 26  2018 t_data.ctab\n"
     ]
    }
   ],
   "source": [
    "ls -lah ../results/ig01"
   ]
  },
  {
   "cell_type": "code",
   "execution_count": null,
   "metadata": {},
   "outputs": [],
   "source": []
  }
 ],
 "metadata": {
  "kernelspec": {
   "display_name": "Bash",
   "language": "bash",
   "name": "bash"
  },
  "language_info": {
   "codemirror_mode": "shell",
   "file_extension": ".sh",
   "mimetype": "text/x-sh",
   "name": "bash"
  }
 },
 "nbformat": 4,
 "nbformat_minor": 4
}
