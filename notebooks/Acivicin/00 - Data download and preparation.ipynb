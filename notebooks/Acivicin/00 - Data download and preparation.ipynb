{
 "cells": [
  {
   "cell_type": "code",
   "execution_count": 1,
   "metadata": {},
   "outputs": [],
   "source": [
    "datadir=\"../data\""
   ]
  },
  {
   "cell_type": "code",
   "execution_count": 2,
   "metadata": {},
   "outputs": [],
   "source": [
    "# Download data from BASESPACE\n",
    "\n",
    "cp \"/mnt/basespace/Projects/Unindexed Reads/Samples/Undetermined from 181105_NS500159_0106_AHF732AFXY/Files/\"*.fastq.gz ../data/\n",
    "#cp $datafiles $datadir"
   ]
  },
  {
   "cell_type": "code",
   "execution_count": 3,
   "metadata": {},
   "outputs": [
    {
     "name": "stdout",
     "output_type": "stream",
     "text": [
      "total 18G\n",
      "drwxrwsr-x 2 ilya lab 4.0K Nov  7 08:52 \u001b[0m\u001b[38;5;5m.\u001b[0m\n",
      "drwxrwsr-x 6 ilya lab 4.0K Nov  7 08:39 \u001b[38;5;5m..\u001b[0m\n",
      "-r--r--r-- 1 ilya lab 2.3G Nov  7 08:47 \u001b[01;31mUndetermined_S0_L001_R1_001.fastq.gz\u001b[0m\n",
      "-r--r--r-- 1 ilya lab 2.4G Nov  7 08:48 \u001b[01;31mUndetermined_S0_L001_R2_001.fastq.gz\u001b[0m\n",
      "-r--r--r-- 1 ilya lab 2.2G Nov  7 08:49 \u001b[01;31mUndetermined_S0_L002_R1_001.fastq.gz\u001b[0m\n",
      "-r--r--r-- 1 ilya lab 2.3G Nov  7 08:49 \u001b[01;31mUndetermined_S0_L002_R2_001.fastq.gz\u001b[0m\n",
      "-r--r--r-- 1 ilya lab 2.2G Nov  7 08:50 \u001b[01;31mUndetermined_S0_L003_R1_001.fastq.gz\u001b[0m\n",
      "-r--r--r-- 1 ilya lab 2.3G Nov  7 08:51 \u001b[01;31mUndetermined_S0_L003_R2_001.fastq.gz\u001b[0m\n",
      "-r--r--r-- 1 ilya lab 2.2G Nov  7 08:52 \u001b[01;31mUndetermined_S0_L004_R1_001.fastq.gz\u001b[0m\n",
      "-r--r--r-- 1 ilya lab 2.2G Nov  7 08:52 \u001b[01;31mUndetermined_S0_L004_R2_001.fastq.gz\u001b[0m\n"
     ]
    }
   ],
   "source": [
    "ls -lah ../data"
   ]
  },
  {
   "cell_type": "code",
   "execution_count": 4,
   "metadata": {},
   "outputs": [
    {
     "name": "stdout",
     "output_type": "stream",
     "text": [
      "total 18G\n",
      "drwxrwsr-x 2 ilya lab 4.0K Nov  7 08:54 \u001b[0m\u001b[38;5;5m.\u001b[0m\n",
      "drwxrwsr-x 6 ilya lab 4.0K Nov  7 08:39 \u001b[38;5;5m..\u001b[0m\n",
      "-rw-rw-r-- 1 ilya lab 8.8G Nov  7 08:53 \u001b[01;31mR1.fastq.gz\u001b[0m\n",
      "-rw-rw-r-- 1 ilya lab 9.0G Nov  7 08:54 \u001b[01;31mR2.fastq.gz\u001b[0m\n"
     ]
    }
   ],
   "source": [
    "# maybe use globbing here instead\n",
    "\n",
    "for fq in $(ls $datadir | grep R1)\n",
    "do\n",
    "    cat \"$datadir/$fq\" >> \"$datadir/R1.fastq.gz\"\n",
    "    rm -f \"$datadir/$fq\"\n",
    "done\n",
    "\n",
    "for fq in $(ls $datadir | grep R2)\n",
    "do\n",
    "    cat \"$datadir/$fq\" >> \"$datadir/R2.fastq.gz\"\n",
    "    rm -f \"$datadir/$fq\"\n",
    "done\n",
    "\n",
    "ls -lah $datadir"
   ]
  },
  {
   "cell_type": "code",
   "execution_count": 5,
   "metadata": {},
   "outputs": [],
   "source": [
    "zcat $datadir/R1.fastq.gz \\\n",
    "    | sed -n '1p;1~4p' - \\\n",
    "    | cut -d' ' -f2 \\\n",
    "    | cut -d':' -f4 \\\n",
    "    | cut -d'+' -f1 \\\n",
    "    | sort | uniq -c | sort -k1 -nr > \"$datadir/index1.txt\""
   ]
  },
  {
   "cell_type": "code",
   "execution_count": 6,
   "metadata": {
    "scrolled": true
   },
   "outputs": [
    {
     "name": "stdout",
     "output_type": "stream",
     "text": [
      "63627014 TCCGCG\n",
      "36122464 CGGCTA\n",
      "19667585 CTGAAG\n",
      "19527313 ATTCAG\n",
      "16131379 GAATTC\n",
      "9335168 TAATGC\n",
      "3872597 GGGGGG\n",
      " 334820 NNNNNN\n",
      " 158407 TCCCCG\n",
      " 156757 CTGACG\n",
      " 142854 CGGCGA\n",
      " 119772 CGGCAA\n",
      " 119203 GCCGCG\n",
      " 118510 TCCGCC\n",
      " 111973 CGGGTA\n",
      " 109906 TCAGCG\n",
      " 109656 ACCGCG\n",
      " 109100 CTGCAG\n",
      "  99422 TCCGAG\n",
      "  97119 TCCGGG\n"
     ]
    }
   ],
   "source": [
    "head -n 20 $datadir/index1.txt"
   ]
  },
  {
   "cell_type": "code",
   "execution_count": 10,
   "metadata": {},
   "outputs": [],
   "source": [
    "head -n 6 $datadir/index1.txt > $datadir/barcodes.txt"
   ]
  },
  {
   "cell_type": "code",
   "execution_count": null,
   "metadata": {},
   "outputs": [],
   "source": []
  }
 ],
 "metadata": {
  "kernelspec": {
   "display_name": "Bash",
   "language": "bash",
   "name": "bash"
  },
  "language_info": {
   "codemirror_mode": "shell",
   "file_extension": ".sh",
   "mimetype": "text/x-sh",
   "name": "bash"
  }
 },
 "nbformat": 4,
 "nbformat_minor": 2
}
