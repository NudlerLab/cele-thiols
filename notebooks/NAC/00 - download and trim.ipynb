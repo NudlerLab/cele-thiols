{
 "cells": [
  {
   "cell_type": "markdown",
   "metadata": {},
   "source": [
    "# Download data from basespace"
   ]
  },
  {
   "cell_type": "code",
   "execution_count": null,
   "metadata": {},
   "outputs": [],
   "source": [
    "basedir=\"/mnt/basespace/Projects/Cele/Samples\"\n",
    "base_dir=\"../data\"\n",
    "\n",
    "for sample in $basedir/IS-145*\n",
    "do\n",
    "    sampleid=$(echo $sample | cut -d '-' -f 3)\n",
    "    mkdir -p ../data/$sampleid\n",
    "    echo \"Copying $sample into ../data/$sampleid\"\n",
    "    cp $sample/Files/*.fastq.gz ../data/$sampleid\n",
    "done\n"
   ]
  },
  {
   "cell_type": "markdown",
   "metadata": {},
   "source": [
    "# Merge lanes in each sample"
   ]
  },
  {
   "cell_type": "code",
   "execution_count": null,
   "metadata": {},
   "outputs": [],
   "source": [
    "for sample in $(ls $base_dir | grep ^ig)\n",
    "do\n",
    "    sample_dir=$base_dir/$sample\n",
    "    echo \"Merging lanes in\" $sample_dir\n",
    "    \n",
    "    cat $sample_dir/*R1_001* > $sample_dir/R1.fastq.gz\n",
    "    cat $sample_dir/*R2_001* > $sample_dir/R2.fastq.gz\n",
    "done"
   ]
  },
  {
   "cell_type": "markdown",
   "metadata": {},
   "source": [
    "## Cleanup"
   ]
  },
  {
   "cell_type": "code",
   "execution_count": null,
   "metadata": {},
   "outputs": [],
   "source": [
    "for sample in $(ls $base_dir | grep ^ig)\n",
    "do\n",
    "    sample_dir=$base_dir/$sample\n",
    "    echo \"Merging lanes in\" $sample_dir\n",
    "    \n",
    "    rm -rf $sample_dir/ig*.fastq.gz\n",
    "    ls -lah $sample_dir\n",
    "done"
   ]
  },
  {
   "cell_type": "markdown",
   "metadata": {},
   "source": [
    "## Quality trimming"
   ]
  },
  {
   "cell_type": "code",
   "execution_count": null,
   "metadata": {},
   "outputs": [],
   "source": [
    "for sample in $(ls $base_dir | grep ^ig)\n",
    "do\n",
    "    sample_dir=../data/$sample\n",
    "    trim_dir=$sample_dir/trim\n",
    "    \n",
    "    if [ ! -d \"$trim_dir\" ]; then\n",
    "        echo \"Creating $trim_dir ...\"\n",
    "        mkdir $trim_dir\n",
    "    fi\n",
    "    \n",
    "    TrimmomaticPE -threads 30 $sample_dir/R1.fastq.gz $sample_dir/R2.fastq.gz \\\n",
    "        $trim_dir/R1_pe.fastq.gz $trim_dir/R1_se.fastq.gz \\\n",
    "        $trim_dir/R2_pe.fastq.gz $trim_dir/R2_se.fastq.gz \\\n",
    "        ILLUMINACLIP:../ref/illuminaClipping.fa:2:30:10 \\\n",
    "        SLIDINGWINDOW:4:20 MINLEN:36\n",
    "\n",
    "done"
   ]
  },
  {
   "cell_type": "code",
   "execution_count": null,
   "metadata": {},
   "outputs": [],
   "source": []
  }
 ],
 "metadata": {
  "kernelspec": {
   "display_name": "Bash",
   "language": "bash",
   "name": "bash"
  },
  "language_info": {
   "codemirror_mode": "shell",
   "file_extension": ".sh",
   "mimetype": "text/x-sh",
   "name": "bash"
  }
 },
 "nbformat": 4,
 "nbformat_minor": 4
}
