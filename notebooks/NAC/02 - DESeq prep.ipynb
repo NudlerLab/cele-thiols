{
 "cells": [
  {
   "cell_type": "code",
   "execution_count": null,
   "metadata": {},
   "outputs": [],
   "source": [
    "import pandas as pd"
   ]
  },
  {
   "cell_type": "code",
   "execution_count": null,
   "metadata": {},
   "outputs": [],
   "source": [
    "samples = ['ig{:0>2d}'.format(i) for i in range(1,13)]\n",
    "samples"
   ]
  },
  {
   "cell_type": "code",
   "execution_count": null,
   "metadata": {},
   "outputs": [],
   "source": [
    "conditions = ['K', 'NAC', 'K', 'NAC', 'K', 'NAC', 'C', 'Aci', 'C', 'Aci', 'C', 'Aci']"
   ]
  },
  {
   "cell_type": "code",
   "execution_count": null,
   "metadata": {
    "scrolled": true
   },
   "outputs": [],
   "source": [
    "exp_df = pd.DataFrame({'sample': samples, 'condition': conditions})\n",
    "exp_df"
   ]
  },
  {
   "cell_type": "code",
   "execution_count": null,
   "metadata": {},
   "outputs": [],
   "source": [
    "def deseq_df(exp_df, cond, cond_names, res_dir='../results'):\n",
    "    assert len(cond) == len(cond_names), 'cond and cond_names must be same length'\n",
    "    df = pd.DataFrame()\n",
    "    for cnd,name in zip(cond, cond_names):\n",
    "        edf = exp_df[exp_df.condition==cnd]\n",
    "        for i,row in enumerate(edf.iterrows()):\n",
    "            i += 1\n",
    "            _, sample = row\n",
    "            filename = '{res_dir}/{sample}/{sample}.htseq.counts'.format(\n",
    "                        res_dir=res_dir, sample=sample['sample'])\n",
    "            ct = pd.read_csv(filename, header=None, names=['gene', 'counts'],\n",
    "                            sep='\\t', skipfooter=5, engine='python')\n",
    "            if df.empty:\n",
    "                df = ct.copy()\n",
    "                df.rename(columns={'counts': '%s%i' % (name,i)}, inplace=True)\n",
    "            else:\n",
    "                df['%s%i' % (name,i)] = ct['counts']\n",
    "    df.set_index('gene', inplace=True)\n",
    "    df.index.names = [None]\n",
    "    print(df)\n",
    "    return df"
   ]
  },
  {
   "cell_type": "code",
   "execution_count": null,
   "metadata": {},
   "outputs": [],
   "source": [
    "df = deseq_df(exp_df, ('K', 'NAC'), ('kontrol', 'NAC'))\n",
    "df.to_csv('../results/KvsNAC.csv', index_label=False)"
   ]
  },
  {
   "cell_type": "code",
   "execution_count": null,
   "metadata": {},
   "outputs": [],
   "source": [
    "df = deseq_df(exp_df, ('C', 'Aci'), ('control', 'Aci'))\n",
    "df.to_csv('../results/CvsAci.csv', index_label=False)\n",
    "df"
   ]
  },
  {
   "cell_type": "code",
   "execution_count": null,
   "metadata": {},
   "outputs": [],
   "source": []
  }
 ],
 "metadata": {
  "kernelspec": {
   "display_name": "Python 3",
   "language": "python",
   "name": "python3"
  },
  "language_info": {
   "codemirror_mode": {
    "name": "ipython",
    "version": 3
   },
   "file_extension": ".py",
   "mimetype": "text/x-python",
   "name": "python",
   "nbconvert_exporter": "python",
   "pygments_lexer": "ipython3",
   "version": "3.6.9"
  }
 },
 "nbformat": 4,
 "nbformat_minor": 4
}
