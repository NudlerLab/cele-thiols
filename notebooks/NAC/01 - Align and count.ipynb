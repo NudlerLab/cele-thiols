{
 "cells": [
  {
   "cell_type": "markdown",
   "metadata": {},
   "source": [
    "## Align only PE reads using `HISAT2`"
   ]
  },
  {
   "cell_type": "code",
   "execution_count": null,
   "metadata": {
    "scrolled": true
   },
   "outputs": [],
   "source": [
    "REF_DIR=\"~/data1/ref/Caenorhabditis_elegans\"\n",
    "BASE_DIR=\"../data\"\n",
    "INDEX=\"$REF_DIR/wbcel235/genome\"\n",
    "\n",
    "hisat_exe=\"$HOME/bin/hisat2-2.1.0/hisat2\"\n",
    "\n",
    "for sample in $(ls $BASE_DIR | grep ^ig)\n",
    "do\n",
    "    sample_dir=\"$BASE_DIR/$sample/trim\"\n",
    "    result_dir=\"../results/$sample\"\n",
    "    \n",
    "    if [ ! -d \"$result_dir\" ]; then\n",
    "        echo \"Creating $result_dir ...\"\n",
    "        mkdir -p $result_dir\n",
    "    fi\n",
    "    \n",
    "    echo \"Unzipping reads for $sample ...\"\n",
    "    read1=$sample_dir/read1.fifo\n",
    "    read2=$sample_dir/read2.fifo\n",
    "    mkfifo $read1\n",
    "    mkfifo $read2\n",
    "    \n",
    "    zcat $sample_dir/R1_pe.fastq.gz > $read1 &\n",
    "    zcat $sample_dir/R2_pe.fastq.gz > $read2 &\n",
    "    \n",
    "    $hisat_exe -p 30 --dta \\\n",
    "        -x $INDEX -1 $read1 -2 $read2 \\\n",
    "        | samtools view -bhS - > \"$result_dir/$sample.pe.bam\"\n",
    "    \n",
    "    rm $sample_dir/*.fifo \n",
    "    \n",
    "done"
   ]
  },
  {
   "cell_type": "code",
   "execution_count": null,
   "metadata": {},
   "outputs": [],
   "source": [
    "for sample in $(ls $BASE_DIR | grep ^ig)\n",
    "do\n",
    "    result_dir=\"../results/$sample\"\n",
    "    samtools sort -@ 30 -o \"$result_dir/$sample.pe.sorted.bam\" \"$result_dir/$sample.pe.bam\"\n",
    "    samtools index -@ 30 \"$result_dir/$sample.pe.sorted.bam\"\n",
    "done"
   ]
  },
  {
   "cell_type": "markdown",
   "metadata": {},
   "source": [
    "## Count reads in genes using `HTSeq-count`"
   ]
  },
  {
   "cell_type": "code",
   "execution_count": null,
   "metadata": {
    "scrolled": true
   },
   "outputs": [],
   "source": [
    "genes=\"~/data1/ref/Caenorhabditis_elegans/Ensembl/WBcel235/Annotation/Genes/genes.gtf\"\n",
    "BASE_DIR=\"../results\"\n",
    "\n",
    "counter=$(which htseq-count)\n",
    "\n",
    "for sample in $(ls $BASE_DIR | grep ^ig)\n",
    "do\n",
    "    echo \"Running HTSeq-count for $sample ...\"\n",
    "    echo \"$BASE_DIR/$sample/$sample.pe.sorted.bam\"\n",
    "    \n",
    "    $counter -f bam -q \"$BASE_DIR/$sample/$sample.pe.sorted.bam\" $genes \\\n",
    "        > \"$BASE_DIR/$sample/$sample.htseq.counts\" &\n",
    "    \n",
    "done"
   ]
  }
 ],
 "metadata": {
  "kernelspec": {
   "display_name": "Bash",
   "language": "bash",
   "name": "bash"
  },
  "language_info": {
   "codemirror_mode": "shell",
   "file_extension": ".sh",
   "mimetype": "text/x-sh",
   "name": "bash"
  }
 },
 "nbformat": 4,
 "nbformat_minor": 4
}
